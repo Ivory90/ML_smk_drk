{
 "cells": [
  {
   "cell_type": "markdown",
   "id": "eb5054a8-3981-46e5-9bf7-68d0820fcde0",
   "metadata": {},
   "source": [
    "# Planteamiento del problema"
   ]
  },
  {
   "cell_type": "markdown",
   "id": "1d2b11f4-732d-4ed0-b579-f2b08f074597",
   "metadata": {},
   "source": [
    "#### Una de las problematicas del sector paciente sanitario es la ocultación de información de prácticas no saludables. El objetivo del modelo final es determinar mediante características físicas de pacientes si es fumador-bebedor. Para ello se toma un dataset completo de características físicas de pacientes con la confirmación de si son o no bebedores y la clasificación de fumadores (1 nunca fumó, 2 fumó pero dejó, 3 aún fuma). \n",
    "#### Estamos ante un problema de clasificación. El modelo final deberá predecir 0-1 si bebe o no y otro 1-2-3 dependiendo del estado de fumar.\n",
    "#### El archivo train_data contiene alrededor de un 70% de los pacientes para entrenar el modelo, el test_data el resto de pacientes.\n",
    "#### El código está compuesto por, una parte inicial de tratamiento de datos (Es un data set bien curado y fácil de manejar). A continuación representación de gráficos y finalmente una búsqueda de modelos de ML. Primero se utiliza un modo más manual con bucles for y finalmente un proceso automatizado mediante GridSearch."
   ]
  },
  {
   "cell_type": "markdown",
   "id": "e21ca2ef-00e0-49da-8873-23cbb492ea4a",
   "metadata": {},
   "source": [
    "# Librerias"
   ]
  },
  {
   "cell_type": "markdown",
   "id": "bbfb97cf-9707-406c-96bd-1e06a1e69b83",
   "metadata": {},
   "source": [
    "#### Inicialmente se importan las librerias para trabajar con el dataset, representar gráficos y ML."
   ]
  },
  {
   "cell_type": "code",
   "execution_count": null,
   "id": "5c07bb84-7c72-4361-8ddc-e5249cf4c616",
   "metadata": {
    "tags": []
   },
   "outputs": [],
   "source": [
    "import numpy as np\n",
    "import pandas as pd\n",
    "import matplotlib.pyplot as plt\n",
    "import seaborn as sns\n",
    "\n",
    "import os\n",
    "\n",
    "from sklearn import preprocessing\n",
    "from sklearn.metrics import accuracy_score, confusion_matrix, classification_report\n",
    "from sklearn.model_selection import train_test_split, cross_val_score, GridSearchCV\n",
    "from sklearn.neighbors import KNeighborsClassifier\n",
    "from sklearn.tree import DecisionTreeClassifier"
   ]
  },
  {
   "cell_type": "markdown",
   "id": "a53fa44b-845b-443a-839a-98d3d1bb8a57",
   "metadata": {},
   "source": [
    "# Tratamiento de datos"
   ]
  },
  {
   "cell_type": "markdown",
   "id": "f37c3bea-a7fd-4673-9c3d-e17d9e6c22f0",
   "metadata": {},
   "source": [
    "### Carga de datos de entrenamiento y test."
   ]
  },
  {
   "cell_type": "markdown",
   "id": "ff091598-87e4-4fa9-94c9-bd86131d3e18",
   "metadata": {},
   "source": [
    "#### Se lee la información que contienen los archivos csv que anteriormente ha sido separada, train_data para entrenar el modelo y test_data para comprobar que tan fiable es el modelo."
   ]
  },
  {
   "cell_type": "code",
   "execution_count": null,
   "id": "0cf4a0ea-ac5b-49b0-9391-b0ef8e7fd3a7",
   "metadata": {
    "tags": []
   },
   "outputs": [],
   "source": [
    "train_path = os.path.join('train_data.csv')\n",
    "test_path = os.path.join('test_data.csv')\n",
    "train_data = pd.read_csv(train_path)\n",
    "test_data = pd.read_csv(test_path)"
   ]
  },
  {
   "cell_type": "markdown",
   "id": "b5f93d92-f256-487e-bcca-b5d95393399f",
   "metadata": {},
   "source": [
    "#### Mediante .shape se comprueba la cantidad de pacientes y características de las que se compone cada DF para comprobar que la separación de datos fue correcta."
   ]
  },
  {
   "cell_type": "code",
   "execution_count": null,
   "id": "12fe1d7b-da84-4b89-9092-b23619291ca9",
   "metadata": {
    "tags": []
   },
   "outputs": [],
   "source": [
    "print(train_data.shape)\n",
    "print(test_data.shape)"
   ]
  },
  {
   "cell_type": "markdown",
   "id": "ad10291f-6ad2-42bd-81e5-1fbeb9d6006d",
   "metadata": {},
   "source": [
    "#### En primer lugar mediante .info se mira el tipo de información que contienen las columnas. Se puede apreciar que es una buena base de datos ya que no tiene datos faltantes. Hay datos tipo entero, flotante y object, los cuales más adelante habrá que ver cómo procesarlos.\n",
    "#### Contiene información de una revisión básica como edad, sexo, peso, altura, presión... Y de análisis como creatinina, colesterol...  \n",
    "\n",
    "##### En el caso que hubieran existido datos faltantes Nan, se tendrían que filtrar. En el caso de ser datos de columnas sin relevancia para el modelo se eliminarían directamente. En caso contrario si hubieran sido pocos, como hay muchos datos, lo más probable es que se hubieran eliminado también. En el caso de haber sido un porcentaje más elevado, dependiendo de los valores faltantes y del resto, podría haberse utilizado la media del resto de datos por ejemplo.\n",
    "##### La mayoría de datos ya son numéricos, pero en el caso que hubieran sido más característicos, como más abajo, se categorizarían por números o si no fueran relevantes se eliminarían."
   ]
  },
  {
   "cell_type": "code",
   "execution_count": null,
   "id": "eda8534d-11ac-4591-846b-c98800dd57fb",
   "metadata": {},
   "outputs": [],
   "source": [
    "train_data.info()"
   ]
  },
  {
   "cell_type": "code",
   "execution_count": null,
   "id": "c14bd743-edf1-49a7-8091-f82f2a2fd875",
   "metadata": {
    "tags": []
   },
   "outputs": [],
   "source": [
    "test_data.info()"
   ]
  },
  {
   "cell_type": "markdown",
   "id": "e39b1c2f-7e17-48e1-8dad-42cce0ed9ed7",
   "metadata": {},
   "source": [
    "#### Con .describe se quierr ver en qué rangos está la información en general, como por ejemplo se han tomado muestras de gente de entre 20 y 85 años y la media sale por debajo de los 50, lo cuál indica que hay más datos de gente joven que no de la 3a edad. Hay más datos de hombres que de mujeres pero no una gran diferencia, alrededor del 53%."
   ]
  },
  {
   "cell_type": "code",
   "execution_count": null,
   "id": "9e5a696c-4c6e-425b-ac78-fc6ba85f1ce8",
   "metadata": {},
   "outputs": [],
   "source": [
    "train_data.describe(include='all')"
   ]
  },
  {
   "cell_type": "code",
   "execution_count": null,
   "id": "54b5a5ad-c348-49d2-bc28-bbc9c024a5e4",
   "metadata": {
    "tags": []
   },
   "outputs": [],
   "source": [
    "test_data.describe(include='all')"
   ]
  },
  {
   "cell_type": "markdown",
   "id": "1894e7c7-11b3-4f0b-8068-37800b22da56",
   "metadata": {},
   "source": [
    "#### En las tablas anteriores se ve que hay valores irreales como un máximo de cintura de 999, actualmente el record guiness es de unos 300, el valor máximo registrado de triglicéridos es de unos 4000 mg/dL, de colesterol 3000 y otros valores que distan mucho de la mayoria del resto de valores. Por lo que esos valores se tomarán como si fueran nulos eliminando dichas filas tanto de train_data como de test_data."
   ]
  },
  {
   "cell_type": "code",
   "execution_count": null,
   "id": "8b6d37c2-0d92-4e87-b0ed-9507106f376d",
   "metadata": {},
   "outputs": [],
   "source": [
    "train_data.drop(train_data[(train_data['waistline'] >300)].index, inplace=True)\n",
    "train_data.drop(train_data[(train_data['triglyceride'] >4500)].index, inplace=True)\n",
    "train_data.drop(train_data[(train_data['LDL_chole'] >3000)].index, inplace=True)\n",
    "train_data.drop(train_data[(train_data['SGOT_AST'] >3000)].index, inplace=True)\n",
    "test_data.drop(test_data[(test_data['waistline'] >300)].index, inplace=True) \n",
    "test_data.drop(test_data[(test_data['triglyceride'] >4500)].index, inplace=True)\n",
    "test_data.drop(test_data[(test_data['LDL_chole'] >3000)].index, inplace=True)\n",
    "test_data.drop(test_data[(test_data['SGOT_AST'] >3000)].index, inplace=True)"
   ]
  },
  {
   "cell_type": "markdown",
   "id": "9f4d4416-61c1-4f5f-b1a6-afb851f6601f",
   "metadata": {},
   "source": [
    "#### Aquí ya podemos apreciar que ha eliminado ciertas filas y los máximos que era probable que no fueran reales han sido eliminados."
   ]
  },
  {
   "cell_type": "code",
   "execution_count": null,
   "id": "002bdf36-610b-47ce-9859-cacec6485db1",
   "metadata": {},
   "outputs": [],
   "source": [
    "train_data.describe(include='all')"
   ]
  },
  {
   "cell_type": "markdown",
   "id": "5c6804f9-58e3-4235-83cf-297fbb6e024d",
   "metadata": {},
   "source": [
    "## Transformación de datos object en enteros"
   ]
  },
  {
   "cell_type": "markdown",
   "id": "140c98e2-56dc-4a1c-b069-5a5111ab2b84",
   "metadata": {},
   "source": [
    "#### Para poder graficar y posteriormente trabajar machinelearning, se han de transformar los datos caracaterísticos en numéricos como el sexo y si fuman o no."
   ]
  },
  {
   "cell_type": "markdown",
   "id": "5e670c13-ac00-4b0a-9253-656ddd4f7a67",
   "metadata": {},
   "source": [
    "#### Se realiza una copia de df para no tener que repetir la limpieza anterior si hubiera que realizar cualquier cambio."
   ]
  },
  {
   "cell_type": "code",
   "execution_count": null,
   "id": "5ecacf88-4f2f-4127-b5c5-add4421fb779",
   "metadata": {
    "tags": []
   },
   "outputs": [],
   "source": [
    "df_train = train_data.copy()\n",
    "df_test = test_data.copy()"
   ]
  },
  {
   "cell_type": "markdown",
   "id": "83b1d9a3-7490-443d-a37e-d0c4885ec93f",
   "metadata": {},
   "source": [
    "#### A continuación hay una función para codificar los datos característicos."
   ]
  },
  {
   "cell_type": "code",
   "execution_count": null,
   "id": "6df13c38-dc0a-46d3-a6f4-2ff070402503",
   "metadata": {
    "tags": []
   },
   "outputs": [],
   "source": [
    "def encode_features(df_train, df_test, features):\n",
    "    '''\n",
    "    Union de los DataFrames para que coincidan los cambios en todos los DF por separado\n",
    "    \n",
    "    Input: 2 pandas DataFrames y una lista de caracteristicas\n",
    "    Output: 2 DataFrames con los datos característicos transformados en numeros  \n",
    "    '''\n",
    "    df_combined = pd.concat([df_train, df_test])\n",
    "    for feature in features:\n",
    "        le=preprocessing.LabelEncoder()\n",
    "        le.fit(df_combined[feature])\n",
    "        if feature in df_train.columns:\n",
    "            df_train[feature]=le.transform(df_train[feature])\n",
    "        else:\n",
    "            pass\n",
    "        if feature in df_test.columns:\n",
    "            df_test[feature]=le.transform(df_test[feature])\n",
    "        else:\n",
    "            pass\n",
    "    return"
   ]
  },
  {
   "cell_type": "markdown",
   "id": "c97d6008-35c6-4ef0-94a8-dc8b075c7bb0",
   "metadata": {},
   "source": [
    "#### Por el momento se aplica la función a la columna de bebedor/no bebedor para poder graficar. Más adelante cuando vayamos a la parte de machinelearning se volverá a aplicar la función para el resto de columnas."
   ]
  },
  {
   "cell_type": "code",
   "execution_count": null,
   "id": "a3137b14-56b9-4ca5-8ebe-a665fd0f4f69",
   "metadata": {
    "tags": []
   },
   "outputs": [],
   "source": [
    "features=['DRK_YN']\n",
    "encode_features(df_train,df_test,features)"
   ]
  },
  {
   "cell_type": "markdown",
   "id": "64f5a116-2f63-41d5-94b1-0226bfd20c0c",
   "metadata": {},
   "source": [
    "## Gráficos"
   ]
  },
  {
   "cell_type": "markdown",
   "id": "5198a116-1232-45bd-9183-cda0fa2a21eb",
   "metadata": {},
   "source": [
    "#### Una vez transformados los datos en números se pueden realizar gráficos para analizar. La función aplica un 1 al bebedor y un 0 a no bebedor.\n",
    "#### A continuación aparecen varios gráficos que ayudan a ver la influencia de varias características."
   ]
  },
  {
   "cell_type": "markdown",
   "id": "d80b2a80-498a-472a-82fc-26ba313d77ce",
   "metadata": {},
   "source": [
    "#### El gráfico más básico es ver la relación con edad y sexo. Como son muchos datos al pc le cuesta mucho calcular segun que gráficos y otros aunque los calcule relativamente más fácil, no se distingue bien la información y realizamos un par de gráficos para comparar y ver que la tendencia más o menos se asemeja del DF completo al 1000 intermedios."
   ]
  },
  {
   "cell_type": "code",
   "execution_count": null,
   "id": "da73d162-cad7-4d35-9b21-9372d3f75b06",
   "metadata": {
    "tags": []
   },
   "outputs": [],
   "source": [
    "grf=sns.pointplot(x='age', y='DRK_YN', hue='sex', data=df_train)\n",
    "grf.set_xlabel(\"Edad\", fontsize = 10)\n",
    "grf.set_ylabel(\"Bebedor\", fontsize = 10)"
   ]
  },
  {
   "cell_type": "code",
   "execution_count": null,
   "id": "8656d4ec-946b-429d-bbf4-db678f15ffe0",
   "metadata": {
    "tags": []
   },
   "outputs": [],
   "source": [
    "grf=sns.pointplot(x='age', y='DRK_YN', hue='sex', data=df_train[40000:50000])\n",
    "grf.set_xlabel(\"Edad\", fontsize = 10)\n",
    "grf.set_ylabel(\"Bebedor\", fontsize = 10)"
   ]
  },
  {
   "cell_type": "markdown",
   "id": "dcf17dcd-cd4c-461e-8617-d47c14cea85f",
   "metadata": {},
   "source": [
    "#### Este tipo de gráfico con muchos datos ya se emborrona y empieza a perder claridad por lo que se prueban zonas pequeñas del DF viendo que se asemejan bastante.\n",
    "#### Se ve que hay más fumadores jóvenes y una relación bastante directa con el aumento de cintura."
   ]
  },
  {
   "cell_type": "code",
   "execution_count": null,
   "id": "44b20f3e-5f74-42f0-8371-eaec5db0243a",
   "metadata": {
    "tags": []
   },
   "outputs": [],
   "source": [
    "sns.jointplot(x='age', y='waistline', hue='SMK_stat_type_cd',  data=df_train[500:800])\n",
    "plt.show()"
   ]
  },
  {
   "cell_type": "code",
   "execution_count": null,
   "id": "eddddc72-dd2c-40fc-8e8d-1f2b434ff487",
   "metadata": {
    "tags": []
   },
   "outputs": [],
   "source": [
    "sns.jointplot(x='age', y='waistline', hue='SMK_stat_type_cd',  data=df_train[20000:20300])\n",
    "plt.show()"
   ]
  },
  {
   "cell_type": "code",
   "execution_count": null,
   "id": "0cfe5f38-5796-4cce-a430-922ea01aa138",
   "metadata": {
    "tags": []
   },
   "outputs": [],
   "source": [
    "sns.jointplot(x='age', y='waistline', hue='SMK_stat_type_cd',  data=df_train[200000:200300])\n",
    "plt.show()"
   ]
  },
  {
   "cell_type": "code",
   "execution_count": null,
   "id": "4decd39f-b84e-46b4-b400-278cb003d36d",
   "metadata": {
    "tags": []
   },
   "outputs": [],
   "source": [
    "grf=sns.pointplot(x='age', y='SMK_stat_type_cd', hue='sex', data=df_train)\n",
    "grf.set_xlabel(\"Edad\", fontsize = 10)\n",
    "grf.set_ylabel(\"Fumador\", fontsize = 10)"
   ]
  },
  {
   "cell_type": "markdown",
   "id": "dab9c257-5d0e-4d8e-a257-83c39380c50b",
   "metadata": {},
   "source": [
    "#### Hay datos que no parecen influyentes en el caso, como la vision. Vamos a graficar a ver si se ve algo, pero se intuye que producirá ruido."
   ]
  },
  {
   "cell_type": "code",
   "execution_count": null,
   "id": "6d172707-56bc-468b-908d-ea162b1e7ede",
   "metadata": {
    "tags": []
   },
   "outputs": [],
   "source": [
    "sns.jointplot(x='age', y='sight_left', hue='SMK_stat_type_cd',  data=df_train[200000:200300])\n",
    "plt.show()"
   ]
  },
  {
   "cell_type": "code",
   "execution_count": null,
   "id": "07874e45-4eb5-42bd-ab24-2855e5bbdba1",
   "metadata": {
    "tags": []
   },
   "outputs": [],
   "source": [
    "sns.jointplot(x='age', y='sight_left', hue='DRK_YN',  data=df_train[200000:200300])\n",
    "plt.show()"
   ]
  },
  {
   "cell_type": "code",
   "execution_count": null,
   "id": "1eb1dfd3-8edf-44b6-9d34-9d846e6907a1",
   "metadata": {
    "tags": []
   },
   "outputs": [],
   "source": [
    "sns.jointplot(x='age', y='hear_right', hue='SMK_stat_type_cd',  data=df_train[200000:200300])\n",
    "plt.show()"
   ]
  },
  {
   "cell_type": "code",
   "execution_count": null,
   "id": "cfe089cc-0bd7-4577-9a48-64851a804af8",
   "metadata": {
    "tags": []
   },
   "outputs": [],
   "source": [
    "sns.jointplot(x='age', y='hear_right', hue='DRK_YN',  data=df_train[100000:100300])\n",
    "plt.show()"
   ]
  },
  {
   "cell_type": "code",
   "execution_count": null,
   "id": "d0cdeaac-f250-4bf2-8671-76e3c1d3fa40",
   "metadata": {},
   "outputs": [],
   "source": [
    "grf=sns.pointplot(x='age', y='hear_right', hue='DRK_YN', data=df_train)\n",
    "grf.set_xlabel(\"Oido\", fontsize = 10)\n",
    "grf.set_ylabel(\"Bebedor\", fontsize = 10)"
   ]
  },
  {
   "cell_type": "markdown",
   "id": "d2bd24d5-c840-4a1c-8450-be42867b0387",
   "metadata": {},
   "source": [
    "#### Los gráficos de arriba, son una muestra de varias franjas del DF, de ellas se deduce que no hay una relación evidente de la falta de visión con fumador-bebedor. Lo mismo para el oído, se ve en el último gráfico que aumenta la falta de audición al aumentar la edad, pero no hay diferencia entre la línea de bebedores.\n",
    "#### Por ello se decide eliminar las columnas de audición y visión, porque pueden inducir a error más que ayudar."
   ]
  },
  {
   "cell_type": "code",
   "execution_count": null,
   "id": "dcb078fd-c02d-40e4-b306-a2f116e1c20a",
   "metadata": {},
   "outputs": [],
   "source": [
    "df_train=df_train.drop(['sight_left','sight_right','hear_left','hear_right'], axis=1)\n",
    "df_test=df_test.drop(['sight_left','sight_right','hear_left','hear_right'], axis=1)"
   ]
  },
  {
   "cell_type": "markdown",
   "id": "de3387aa-7d24-4d52-b24d-cf19048ce535",
   "metadata": {},
   "source": [
    "#### Por último se pasan el resto de datos característicos con la función anterior a números para poder empezar con ML."
   ]
  },
  {
   "cell_type": "code",
   "execution_count": null,
   "id": "3595efae-a64c-4ffe-95bd-98c953d9aa13",
   "metadata": {},
   "outputs": [],
   "source": [
    "features1=['sex']\n",
    "encode_features(df_train,df_test,features1)"
   ]
  },
  {
   "cell_type": "code",
   "execution_count": null,
   "id": "8f7aac77-7280-40bf-94e8-cf86275e7a26",
   "metadata": {},
   "outputs": [],
   "source": [
    "df_train"
   ]
  },
  {
   "cell_type": "markdown",
   "id": "b6086a27-502a-4ae2-aa94-5cde62fa615f",
   "metadata": {},
   "source": [
    "# MachineLearning"
   ]
  },
  {
   "cell_type": "markdown",
   "id": "82f2011d-6a89-4ed4-bf9f-208e14dad58b",
   "metadata": {},
   "source": [
    "#### Las columnas SMK y DRK seeliminan porque son las variables objetivo en x para que estudie el resto de columnas, y las 2 columnas de variables objetivo se ponen por separado para hacer 2 modelos distintos.\n",
    "#### De los datos de entrenamiento se utiliza un 85% para entrenar y un 15% para validar, y como no se sabe qué cantidad hay en los datos de cada uno de la clasificación 1,2,3 de fumadores, se utiliza el \"stratify = y\" para asegurar que se mantenga la proporción tanto en entrenamiento como en test."
   ]
  },
  {
   "cell_type": "code",
   "execution_count": null,
   "id": "d94c348a-9463-477c-bed2-1089c4ee4601",
   "metadata": {
    "tags": []
   },
   "outputs": [],
   "source": [
    "x = df_train.drop(['SMK_stat_type_cd','DRK_YN'], axis=1)\n",
    "y = df_train['SMK_stat_type_cd']\n",
    "z = df_train['DRK_YN']\n",
    "\n",
    "validation_split = 0.15\n",
    "seed = 42\n",
    "x_train, x_validation, y_train, y_validation = train_test_split(x, y, test_size=validation_split, random_state=seed, stratify=y)"
   ]
  },
  {
   "cell_type": "markdown",
   "id": "61e2c63d-62ec-4b0c-8769-b31ba923214e",
   "metadata": {},
   "source": [
    "#### Modelo de arbol de clasificación y entrenamos el modelo para la clasificación de fumador(1,2,3)"
   ]
  },
  {
   "cell_type": "code",
   "execution_count": null,
   "id": "65e89a53-92a5-4abe-82b2-cc3b9bed626a",
   "metadata": {},
   "outputs": [],
   "source": [
    "model_smk = DecisionTreeClassifier()\n",
    "\n",
    "model_smk.fit(x_train,y_train)"
   ]
  },
  {
   "cell_type": "markdown",
   "id": "cb8df3b9-15c5-4051-bfcb-ff043c0a646d",
   "metadata": {},
   "source": [
    "#### Modelo de arbol de clasificación y entrenamos el modelo para la clasificación de bebedor(0,1)."
   ]
  },
  {
   "cell_type": "code",
   "execution_count": null,
   "id": "f9e39437-d80e-4284-80e7-b69e5851a0ea",
   "metadata": {
    "tags": []
   },
   "outputs": [],
   "source": [
    "x_train, x_validation, z_train, z_validation = train_test_split(x, z, test_size=validation_split, random_state=seed, stratify=z)"
   ]
  },
  {
   "cell_type": "code",
   "execution_count": null,
   "id": "a0fa7e99-f0cf-4563-b9f7-ef9a52b2028e",
   "metadata": {},
   "outputs": [],
   "source": [
    "model_drk = DecisionTreeClassifier()\n",
    "\n",
    "model_drk.fit(x_train,z_train)"
   ]
  },
  {
   "cell_type": "code",
   "execution_count": null,
   "id": "5b4e1b46-37fd-4fba-a243-7ab613b44f92",
   "metadata": {
    "tags": []
   },
   "outputs": [],
   "source": [
    "pred_smk = model_smk.predict(x_validation)"
   ]
  },
  {
   "cell_type": "code",
   "execution_count": null,
   "id": "546223ea-9c9e-4f42-890f-92eacbfd2348",
   "metadata": {},
   "outputs": [],
   "source": [
    "pred_drk = model_drk.predict(x_validation)"
   ]
  },
  {
   "cell_type": "markdown",
   "id": "0f578647-bbbf-4e25-ab9d-94f4cc88ea59",
   "metadata": {},
   "source": [
    "#### Comparación de datos de la predicción con los reales."
   ]
  },
  {
   "cell_type": "code",
   "execution_count": null,
   "id": "888a503c-e2b2-453b-a937-ef033c717d38",
   "metadata": {
    "tags": []
   },
   "outputs": [],
   "source": [
    "accuracy_score(pred_smk, y_validation)"
   ]
  },
  {
   "cell_type": "code",
   "execution_count": null,
   "id": "074fed05-177f-40f2-89c9-5b34ac87a5f4",
   "metadata": {},
   "outputs": [],
   "source": [
    "accuracy_score(pred_drk, z_validation)"
   ]
  },
  {
   "cell_type": "markdown",
   "id": "4f3e1e38-0d7c-4056-b0f2-3ce99467b1da",
   "metadata": {},
   "source": [
    "#### Se utiliza la matriz de confusión para ver la relación de errores, comparando los Ture positive, True negative, False positive y False negative. Es decir los valores que el modelo determina que son positivos y realmente son positivos, igualmente para los negativos y por el lado contrario, los que determina positivos pero son negativos y viceversa."
   ]
  },
  {
   "cell_type": "code",
   "execution_count": null,
   "id": "908152a0-a8df-4810-b84f-93b06cce05b7",
   "metadata": {},
   "outputs": [],
   "source": [
    "print(confusion_matrix(y_validation,pred_smk))"
   ]
  },
  {
   "cell_type": "code",
   "execution_count": null,
   "id": "3d99c51e-0929-4923-84f4-8c8c20d7263c",
   "metadata": {},
   "outputs": [],
   "source": [
    "print(confusion_matrix(z_validation,pred_drk))"
   ]
  },
  {
   "cell_type": "code",
   "execution_count": null,
   "id": "4026bbc9-8261-4457-90ab-7a5cb1369d20",
   "metadata": {},
   "outputs": [],
   "source": [
    "print(classification_report(y_validation,pred_smk))"
   ]
  },
  {
   "cell_type": "code",
   "execution_count": null,
   "id": "2b1f3d8e-6e34-4c69-b1a8-85ca91f9a0b0",
   "metadata": {},
   "outputs": [],
   "source": [
    "print(classification_report(z_validation,pred_drk))"
   ]
  },
  {
   "cell_type": "markdown",
   "id": "8b2e548f-3ede-4a57-b0ad-6cdc38993262",
   "metadata": {},
   "source": [
    "#### Calculamos el accuracy con los datos de test para ver si el modelo generaliza bien."
   ]
  },
  {
   "cell_type": "code",
   "execution_count": null,
   "id": "f770481e-33fa-4027-a44f-8a2bc7cd1271",
   "metadata": {
    "tags": []
   },
   "outputs": [],
   "source": [
    "y_test = df_test['SMK_stat_type_cd']\n",
    "z_test = df_test['DRK_YN']\n",
    "x_test = df_test.drop(['SMK_stat_type_cd','DRK_YN'], axis=1)\n",
    "\n",
    "pred_smk_test = model_smk.predict(x_test)\n",
    "pred_drk_test = model_drk.predict(x_test)"
   ]
  },
  {
   "cell_type": "code",
   "execution_count": null,
   "id": "0323bdbd-59a2-483f-94a2-51aa6bc22de2",
   "metadata": {
    "tags": []
   },
   "outputs": [],
   "source": [
    "accuracy_score(pred_smk_test,y_test)"
   ]
  },
  {
   "cell_type": "code",
   "execution_count": null,
   "id": "6aaece49-08e7-466c-a271-9507063b5084",
   "metadata": {
    "tags": []
   },
   "outputs": [],
   "source": [
    "accuracy_score(pred_drk_test,z_test)"
   ]
  },
  {
   "cell_type": "markdown",
   "id": "ce6fe3c0-b8c8-4c63-9d5b-695bf51b38dc",
   "metadata": {},
   "source": [
    "#### A continuación se programa un modelo KNeighbors con un bucle para buscar qué semilla iría mejor, y ver si se puede mejorar el algoritmo."
   ]
  },
  {
   "cell_type": "code",
   "execution_count": null,
   "id": "7b61518d-6905-4d97-b971-d90e5a706ef8",
   "metadata": {
    "tags": []
   },
   "outputs": [],
   "source": [
    "k_range = list(range(1,25))\n",
    "scores_smk=[]\n",
    "for k in k_range:\n",
    "    knn_smk = KNeighborsClassifier(n_neighbors=k)\n",
    "    knn_smk.fit(x_train,y_train)\n",
    "    y_pred = knn_smk.predict(x_validation)\n",
    "    scores_smk.append(accuracy_score(y_validation, y_pred))\n",
    "\n",
    "print(scores_smk)"
   ]
  },
  {
   "cell_type": "markdown",
   "id": "dcdaa612-a165-412c-b283-6ef1fb9850e3",
   "metadata": {},
   "source": [
    "#### Un gráfico con la lista de accuracys y las semillas muestra con más claridad cuál es mejor viendo que se mueve entre un rango de 40 y 60 %. Al parecer a partir de una semilla de 18-20 se estabiliza en un 60 %. Se puede ver reflejada la influencia de la semilla y que el modelo KNeighbors da mejor resultado con una semilla superior a 20 al compararla con el 1er modelo del árbol de decisión."
   ]
  },
  {
   "cell_type": "code",
   "execution_count": null,
   "id": "271aef59-d13a-4cbb-9586-303ad290d1d4",
   "metadata": {
    "tags": []
   },
   "outputs": [],
   "source": [
    "fig, ax = plt.subplots()\n",
    "ax.plot(k_range, scores_smk)\n",
    "ax.set_xlabel('Valores de semillas')\n",
    "ax.set_ylabel('Accuracy')\n",
    "plt.show()"
   ]
  },
  {
   "cell_type": "code",
   "execution_count": null,
   "id": "6460d289-1b03-40bd-8ef7-a8da194468be",
   "metadata": {},
   "outputs": [],
   "source": [
    "knn_smk = KNeighborsClassifier(24)\n",
    "knn_smk.fit(x_train,y_train)\n",
    "y_pred = knn_smk.predict(x_validation)\n",
    "accuracy_score(y_validation, y_pred)"
   ]
  },
  {
   "cell_type": "markdown",
   "id": "ce0c3bcd-bbb2-4595-9257-b504ae5d2133",
   "metadata": {},
   "source": [
    "#### Mismo porceso para el modelo de bebedores. También es un problema de calsificación y aunque el anterior es de 3 clases y éste solo de 2 también se puede ver que éste modelo es mejor que el anterior y alrededor de 18-20 también se estabiliza."
   ]
  },
  {
   "cell_type": "code",
   "execution_count": null,
   "id": "7c3f1053-a2a7-4979-ad2e-fe017858f8b4",
   "metadata": {
    "tags": []
   },
   "outputs": [],
   "source": [
    "k_range = list(range(1,25))\n",
    "scores_drk = []\n",
    "for k in k_range:\n",
    "    knn_drk = KNeighborsClassifier(n_neighbors=k)\n",
    "    knn_drk.fit(x_train,z_train)\n",
    "    z_pred = knn_drk.predict(x_validation)\n",
    "    scores_drk.append(accuracy_score(z_validation, z_pred))\n",
    "\n",
    "print(scores_drk)"
   ]
  },
  {
   "cell_type": "code",
   "execution_count": null,
   "id": "1c65c7ae-f389-4854-958c-ea1bfaf43117",
   "metadata": {
    "tags": []
   },
   "outputs": [],
   "source": [
    "fig, ax = plt.subplots()\n",
    "ax.plot(k_range, scores_drk)\n",
    "ax.set_xlabel('Valores de semillas')\n",
    "ax.set_ylabel('Accuracy')\n",
    "plt.show()"
   ]
  },
  {
   "cell_type": "code",
   "execution_count": null,
   "id": "b2628889-5d61-4604-8783-d719f653910a",
   "metadata": {},
   "outputs": [],
   "source": [
    "knn_drk = KNeighborsClassifier(24)\n",
    "knn_drk.fit(x_train,z_train)\n",
    "z_pred = knn_drk.predict(x_validation)\n",
    "accuracy_score(z_validation, z_pred)"
   ]
  },
  {
   "cell_type": "markdown",
   "id": "62f76923-bbe6-403a-937c-a1e791c91d76",
   "metadata": {},
   "source": [
    "#### Una vez entrenado el modelo se prueban los datos de test con la semilla que mejores resultados daban, que en ambos casos coincide que es la semilla más alta y es la que se ha dejado entrenada tras ver cada gráfico. Como se puede apreciar, el modelo generaliza bien con datos nuevos."
   ]
  },
  {
   "cell_type": "code",
   "execution_count": null,
   "id": "8dead9b9-1b6d-4b22-a32c-7d23e4c8cc86",
   "metadata": {
    "tags": []
   },
   "outputs": [],
   "source": [
    "pred_knn_smk_test = knn_smk.predict(x_test)\n",
    "pred_knn_drk_test = knn_drk.predict(x_test)"
   ]
  },
  {
   "cell_type": "code",
   "execution_count": null,
   "id": "5fe8870f-031b-4390-bf60-d75fcbc6dd85",
   "metadata": {},
   "outputs": [],
   "source": [
    "accuracy_score(pred_knn_smk_test,y_test)"
   ]
  },
  {
   "cell_type": "code",
   "execution_count": null,
   "id": "2a5da4bb-fcf4-4be9-898d-aed61c97be88",
   "metadata": {
    "tags": []
   },
   "outputs": [],
   "source": [
    "accuracy_score(pred_knn_drk_test,z_test)"
   ]
  },
  {
   "cell_type": "code",
   "execution_count": null,
   "id": "f36ea5d6-6c7f-4d20-95de-4f5b0643e4f6",
   "metadata": {},
   "outputs": [],
   "source": []
  },
  {
   "cell_type": "markdown",
   "id": "3506f6b8-8304-490b-8445-d94b7a5643a2",
   "metadata": {},
   "source": [
    "#### A continuación está programado un Cross-Validation para entrenar con todos los datos sin separar datos en train y validation, utilizando varias combinaciones de datos para train y para validación, tanto para el sector de fumadores como el de bebedores. Utilizo 10 iteraciones para cada valor de neighbor. \n",
    "#### Tras los entrenos está programado al igual que antes un gráfico para visualizar la influencia de las diferentes semillas."
   ]
  },
  {
   "cell_type": "code",
   "execution_count": null,
   "id": "a7a0551c-2fbd-471d-bd23-5251bb1dbcbe",
   "metadata": {
    "tags": []
   },
   "outputs": [],
   "source": [
    "k_range = list(range(1,25))\n",
    "k_scores = []\n",
    "for k in k_range:\n",
    "    knn = KNeighborsClassifier(n_neighbors=k)\n",
    "    scores = cross_val_score(knn, x_train, y_train, cv=10, scoring='accuracy')\n",
    "    k_scores.append(scores.mean())\n",
    "    \n",
    "print(k_scores)"
   ]
  },
  {
   "cell_type": "code",
   "execution_count": null,
   "id": "c37d648e-1b4e-4ec9-9129-80eb96ed58da",
   "metadata": {},
   "outputs": [],
   "source": [
    "fig, ax = plt.subplots()\n",
    "ax.plot(k_range, k_scores)\n",
    "ax.set_xlabel('Valores de semillas')\n",
    "ax.set_ylabel('Accuracy')\n",
    "plt.show()"
   ]
  },
  {
   "cell_type": "code",
   "execution_count": null,
   "id": "c8a8d55f-e8b1-47bd-94d2-dc9b91c882c7",
   "metadata": {
    "tags": []
   },
   "outputs": [],
   "source": [
    "k_range = list(range(1,25))\n",
    "k_scores = []\n",
    "for k in k_range:\n",
    "    knn = KNeighborsClassifier(n_neighbors=k)\n",
    "    scores = cross_val_score(knn, x_train, z_train, cv=10, scoring='accuracy')\n",
    "    k_scores.append(scores.mean())\n",
    "    \n",
    "print(k_scores)"
   ]
  },
  {
   "cell_type": "code",
   "execution_count": null,
   "id": "efd6fa3e-93cf-4dc5-8e0f-600a571d1e76",
   "metadata": {
    "tags": []
   },
   "outputs": [],
   "source": [
    "fig, ax = plt.subplots()\n",
    "ax.plot(k_range, k_scores)\n",
    "ax.set_xlabel('Valores de semillas')\n",
    "ax.set_ylabel('Accuracy')\n",
    "plt.show()"
   ]
  },
  {
   "cell_type": "code",
   "execution_count": null,
   "id": "1091d3d0-2bc4-43c6-8bba-9bec42167956",
   "metadata": {},
   "outputs": [],
   "source": []
  },
  {
   "cell_type": "markdown",
   "id": "87f82dd3-7dc3-4f9b-85f5-8507ea5f5c1c",
   "metadata": {},
   "source": [
    "#### Para acabar se utiliza un modo más efectivo, GridSearch y más de un parámetro."
   ]
  },
  {
   "cell_type": "markdown",
   "id": "bee69fbe-d5c7-446b-b005-3cd6de31cbfd",
   "metadata": {},
   "source": [
    "#### Definición de los parámetros que se quiere buscar, valores de k entre 1-25 y las opciones de peso"
   ]
  },
  {
   "cell_type": "code",
   "execution_count": null,
   "id": "41d5b7ab-d540-4bb8-89ac-409e5065c08c",
   "metadata": {},
   "outputs": [],
   "source": [
    "k_range = list(range(1, 25))\n",
    "weight_options = ['uniform', 'distance']"
   ]
  },
  {
   "cell_type": "markdown",
   "id": "718b6cea-d7b3-48d1-b102-1bd36a799596",
   "metadata": {},
   "source": [
    "#### Param-grid, un diccionario, poniendo el nombre para asignarle a esa característica sobre la que iterar."
   ]
  },
  {
   "cell_type": "code",
   "execution_count": null,
   "id": "aa87b313-1e59-4839-a0ec-e45bef0b2e33",
   "metadata": {},
   "outputs": [],
   "source": [
    "param_grid = dict(n_neighbors=k_range, weights=weight_options)\n",
    "print(param_grid)"
   ]
  },
  {
   "cell_type": "markdown",
   "id": "20169138-d1c5-4fc8-b027-f718550b189d",
   "metadata": {},
   "source": [
    "#### Instancia del GridSearch pasándole el parámetro n_jobs=-1 para que lance en paralelo los que pueda, aprovechando diferentes núcleos y así se ejecute más rápido."
   ]
  },
  {
   "cell_type": "code",
   "execution_count": null,
   "id": "e6a07ac0-5722-4162-b2cb-d9d4fb6573e5",
   "metadata": {},
   "outputs": [],
   "source": [
    "grid_smk = GridSearchCV(knn, param_grid, cv=10, scoring='accuracy', n_jobs=-1)\n",
    "grid_smk.fit(x_train, y_train)"
   ]
  },
  {
   "cell_type": "code",
   "execution_count": null,
   "id": "4049b509-833d-4d65-adad-f7ee32f37921",
   "metadata": {},
   "outputs": [],
   "source": [
    "grid_drk = GridSearchCV(knn, param_grid, cv=10, scoring='accuracy', n_jobs=-1)\n",
    "grid_drk.fit(x_train, z_train)"
   ]
  },
  {
   "cell_type": "markdown",
   "id": "49d96543-4f84-497f-9036-336ee761a974",
   "metadata": {},
   "source": [
    "#### Datos a un DataFrame para visualizar mejor los datos. Obteniendo la media de las 10 iteraciones sobre cada una de las combinaciones y la desviación que se genera."
   ]
  },
  {
   "cell_type": "code",
   "execution_count": null,
   "id": "bafe8f29-71c9-403f-a7ad-17b0ec2172de",
   "metadata": {},
   "outputs": [],
   "source": [
    "pd.DataFrame(grid_smk.cv_results_)[['mean_test_score', 'std_test_score', 'params']]"
   ]
  },
  {
   "cell_type": "code",
   "execution_count": null,
   "id": "e9cac1d3-8b5a-4d25-b11a-bff04528b08f",
   "metadata": {},
   "outputs": [],
   "source": [
    "pd.DataFrame(grid_drk.cv_results_)[['mean_test_score', 'std_test_score', 'params']]"
   ]
  },
  {
   "cell_type": "markdown",
   "id": "5bcb2583-59bb-400e-bdff-a66c2b127674",
   "metadata": {},
   "source": [
    "#### Con Grid se puede ver la mejor combinación para el mejor resultado "
   ]
  },
  {
   "cell_type": "code",
   "execution_count": null,
   "id": "941dd66d-a454-4e52-b663-6acb868c3e10",
   "metadata": {},
   "outputs": [],
   "source": [
    "print(grid_smk.best_score_)\n",
    "print(grid_smk.best_params_)"
   ]
  },
  {
   "cell_type": "code",
   "execution_count": null,
   "id": "78cd4ce4-cb3b-4e9d-aee4-1b9837dd885d",
   "metadata": {},
   "outputs": [],
   "source": [
    "print(grid_drk.best_score_)\n",
    "print(grid_drk.best_params_)"
   ]
  },
  {
   "cell_type": "markdown",
   "id": "1b354c63-c9eb-4837-90fe-b56ce56b1e0d",
   "metadata": {},
   "source": [
    "#### Y finalmente se comprueba el modelo con los datos de test"
   ]
  },
  {
   "cell_type": "code",
   "execution_count": null,
   "id": "0a2206e6-ef1f-42e1-a02e-0969322d192f",
   "metadata": {},
   "outputs": [],
   "source": [
    "pred_grid_smk = grid_smk.predict(x_test)"
   ]
  },
  {
   "cell_type": "code",
   "execution_count": null,
   "id": "5cb80b36-781b-43b0-98da-e3e4053d54b4",
   "metadata": {},
   "outputs": [],
   "source": [
    "pred_grid_drk = grid_drk.predict(x_test)"
   ]
  },
  {
   "cell_type": "code",
   "execution_count": null,
   "id": "2852390f-89c8-4bba-b869-a320b09ddca1",
   "metadata": {},
   "outputs": [],
   "source": [
    "accuracy_score(pred_grid_smk,y_test)"
   ]
  },
  {
   "cell_type": "code",
   "execution_count": null,
   "id": "f86da935-dce2-4175-a283-961aa55a00de",
   "metadata": {},
   "outputs": [],
   "source": [
    "accuracy_score(pred_grid_drk,z_test)"
   ]
  }
 ],
 "metadata": {
  "kernelspec": {
   "display_name": "Python 3 (ipykernel)",
   "language": "python",
   "name": "python3"
  },
  "language_info": {
   "codemirror_mode": {
    "name": "ipython",
    "version": 3
   },
   "file_extension": ".py",
   "mimetype": "text/x-python",
   "name": "python",
   "nbconvert_exporter": "python",
   "pygments_lexer": "ipython3",
   "version": "3.11.3"
  }
 },
 "nbformat": 4,
 "nbformat_minor": 5
}
